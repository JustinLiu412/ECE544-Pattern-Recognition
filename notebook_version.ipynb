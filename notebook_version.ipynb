{
 "cells": [
  {
   "cell_type": "code",
   "execution_count": 141,
   "metadata": {
    "collapsed": true
   },
   "outputs": [],
   "source": [
    "import numpy as np\n",
    "import random\n",
    "import os\n"
   ]
  },
  {
   "cell_type": "code",
   "execution_count": 142,
   "metadata": {
    "collapsed": true
   },
   "outputs": [],
   "source": [
    "def nan_check(data, label):\n",
    "    \"\"\"Find out the rows in datasets and delete these rows\n",
    "    \n",
    "    \"\"\"\n",
    "    \n",
    "    nan_rows = np.array(0); #define an array containg the no. of rows having 'nan'\n",
    "    \n",
    "    #collect all the numbers of 'nan'-data rows\n",
    "    for i in range(len(data)):\n",
    "        for j in range(16):\n",
    "            if str(data[i][j]) == 'nan':\n",
    "                nan_rows = np.append(nan_rows, i)\n",
    "    nan_rows = np.delete(nan_rows, 0) #delete the first element of nan_rows which was made to fit the append()\n",
    "    \n",
    "    #output the dataset whose 'nan'-data rows have been deleted\n",
    "    return np.delete(data, nan_rows, 0), np.delete(label, nan_rows, 0) "
   ]
  },
  {
   "cell_type": "code",
   "execution_count": 143,
   "metadata": {
    "collapsed": true
   },
   "outputs": [],
   "source": [
    "def shuffle(data_set, label_set):\n",
    "    \"\"\"Randomly shuffle the data and label\n",
    "    \n",
    "    data_set    the data samples\n",
    "    \n",
    "    label_set   the lables\n",
    "    \"\"\"\n",
    "    \n",
    "    shuffled_data = np.zeros((data_set.shape))\n",
    "    shuffled_label = np.zeros((label_set.shape))\n",
    "    idx = np.array(xrange(len(label_set)))\n",
    "    random.shuffle(idx)\n",
    "    i = 0\n",
    "    for j in idx:\n",
    "        shuffled_data[i] = data_set[int(j)]\n",
    "        shuffled_label[i] = label_set[int(j)]\n",
    "        i += 1\n",
    "    return shuffled_data, shuffled_label"
   ]
  },
  {
   "cell_type": "code",
   "execution_count": 144,
   "metadata": {
    "collapsed": true
   },
   "outputs": [],
   "source": [
    "def get_data(set_type):\n",
    "    \"\"\"Get data from files and storage them in a array. Return the data_set and label_set.\n",
    "    \n",
    "    set_type    the type of data set you want to build, including train dataset, dev dataset \n",
    "                and eval dataset\n",
    "    \"\"\"\n",
    "    \n",
    "    data_path = {'train': 'train/lab/hw1train_labels.txt', 'dev': 'dev/lab/hw1dev_labels.txt', \\\n",
    "                 'eval': 'eval/lab/hw1eval_labels.txt'} \n",
    "\n",
    "    label_array = np.loadtxt(data_path[set_type], dtype='string') #load the label file into a array\n",
    "\n",
    "    #creat empty arrays to insert label and data\n",
    "    label_set = np.zeros([len(label_array), 1])\n",
    "    data_set = np.zeros([len(label_array), 16])\n",
    "    \n",
    "    # the first column of the label file is the label,\n",
    "    # the second column is the corresbonding data file nam\n",
    "    for i in range(len(label_array)): \n",
    "        #build the label set\n",
    "        label_set[i] = label_array[i][0] # insert label into label_set\n",
    "        \n",
    "        #build the data set\n",
    "        with open(label_array[i][1]) as data_file:\n",
    "            data = data_file.readlines()[0].split() #find the data accoding to label\n",
    "        for j in range(len(data)):\n",
    "            data_set[i][j] = data[j] #insert data into the dataset\n",
    "            \n",
    "    data_set, label_set = nan_check(data_set, label_set) #delete the rows containing 'nan'\n",
    "\n",
    "    return shuffle(data_set, label_set) #return the shuffled data set and label set"
   ]
  },
  {
   "cell_type": "code",
   "execution_count": 145,
   "metadata": {
    "collapsed": true
   },
   "outputs": [],
   "source": [
    "def linear_regression_gradient(data, label, weight, b):\n",
    "    \"\"\"Calculate the gradient of linear node classifier. Return the gradient.\n",
    "    \n",
    "    \"\"\"\n",
    "\n",
    "    gradient_w, gradient_b = 0, 0\n",
    "    for i in range(len(label)):\n",
    "        gradient_w += (-2) * (label[i] - (np.dot(weight, data[i]) + b)) * data[i]\n",
    "        gradient_b += (-2) * (label[i] - (np.dot(weight, data[i]) + b))\n",
    "\n",
    "    return gradient_w, gradient_b"
   ]
  },
  {
   "cell_type": "code",
   "execution_count": 146,
   "metadata": {
    "collapsed": true
   },
   "outputs": [],
   "source": [
    "def gradient_descent(weight, b, learning_rate, gradient_w, gradient_b):\n",
    "    \"\"\"Update and return weight and b.\n",
    "    \n",
    "    \"\"\"\n",
    "    \n",
    "    weight -= learning_rate * gradient_w\n",
    "    b -= learning_rate * gradient_b\n",
    "    return weight, b"
   ]
  },
  {
   "cell_type": "code",
   "execution_count": 147,
   "metadata": {
    "collapsed": true
   },
   "outputs": [],
   "source": [
    "def compute_MSE(data, label, weight, b, mse):\n",
    "    \"\"\"Compute the Mean Square Error\n",
    "    \n",
    "    \"\"\"\n",
    "    \n",
    "    for i in range(len(label)):\n",
    "        mse += (label[i] - (np.dot(weight, data[i]) + b)) ** 2\n",
    "        \n",
    "    mse = mse / len(label)\n",
    "    return mse"
   ]
  },
  {
   "cell_type": "code",
   "execution_count": 148,
   "metadata": {
    "collapsed": true
   },
   "outputs": [],
   "source": [
    "def compute_mse(dev_data, dev_label, w, b):\n",
    "    \"\"\"Compute the mean square error\n",
    "    \n",
    "    \"\"\"\n",
    "    \n",
    "    mse = 0\n",
    "    mse = compute_MSE(dev_data, dev_label, w, b, mse)\n",
    "    \n",
    "    return mse"
   ]
  },
  {
   "cell_type": "code",
   "execution_count": 157,
   "metadata": {
    "collapsed": true
   },
   "outputs": [],
   "source": [
    "def activate(epoch = 100, lr = 0.000001):\n",
    "    \"\"\"\n",
    "    \n",
    "    \"\"\"\n",
    "\n",
    "    # data and parameter initialization\n",
    "    w = 2 * np.random.random(size = 16) - 1\n",
    "    b = 0\n",
    "\n",
    "    train_data, train_label = get_data('train') #build the dataset for training network\n",
    "    dev_data, dev_label = get_data('dev')\n",
    "    \n",
    "    for i in range(epoch):    \n",
    "        g_w, g_b = linear_regression_gradient(data, label, w, b)\n",
    "        w, b = gradient_descent(w, b, lr, g_w, g_b)\n",
    "    \n",
    "        mse = compute_mse(dev_data, dev_label, w, b)\n",
    "    \n",
    "        print mse\n"
   ]
  },
  {
   "cell_type": "code",
   "execution_count": 158,
   "metadata": {
    "collapsed": false
   },
   "outputs": [
    {
     "name": "stdout",
     "output_type": "stream",
     "text": [
      "[ 9.28747615]\n",
      "[ 7.91339942]\n",
      "[ 6.74665913]\n",
      "[ 5.77599166]\n",
      "[ 4.97146716]\n",
      "[ 4.30410129]\n",
      "[ 3.74929719]\n",
      "[ 3.2868028]\n",
      "[ 2.90006524]\n",
      "[ 2.57557607]\n",
      "[ 2.30231137]\n",
      "[ 2.07127063]\n",
      "[ 1.87510066]\n",
      "[ 1.70778949]\n",
      "[ 1.56441737]\n",
      "[ 1.44095433]\n",
      "[ 1.33409552]\n",
      "[ 1.24112727]\n",
      "[ 1.15981814]\n",
      "[ 1.08833026]\n",
      "[ 1.02514721]\n",
      "[ 0.9690153]\n",
      "[ 0.91889574]\n",
      "[ 0.87392574]\n",
      "[ 0.83338677]\n",
      "[ 0.7966787]\n",
      "[ 0.7632987]\n",
      "[ 0.73282408]\n",
      "[ 0.70489817]\n",
      "[ 0.67921893]\n",
      "[ 0.65552945]\n",
      "[ 0.63361039]\n",
      "[ 0.61327356]\n",
      "[ 0.59435686]\n",
      "[ 0.57671995]\n",
      "[ 0.5602408]\n",
      "[ 0.54481282]\n",
      "[ 0.53034242]\n",
      "[ 0.51674712]\n",
      "[ 0.50395387]\n",
      "[ 0.49189769]\n",
      "[ 0.48052055]\n",
      "[ 0.46977043]\n",
      "[ 0.45960051]\n",
      "[ 0.44996849]\n",
      "[ 0.44083607]\n",
      "[ 0.43216842]\n",
      "[ 0.42393379]\n",
      "[ 0.41610317]\n",
      "[ 0.40864997]\n",
      "[ 0.40154979]\n",
      "[ 0.39478016]\n",
      "[ 0.38832037]\n",
      "[ 0.3821513]\n",
      "[ 0.37625525]\n",
      "[ 0.37061582]\n",
      "[ 0.36521782]\n",
      "[ 0.36004711]\n",
      "[ 0.35509056]\n",
      "[ 0.35033593]\n",
      "[ 0.34577182]\n",
      "[ 0.34138759]\n",
      "[ 0.33717333]\n",
      "[ 0.33311974]\n",
      "[ 0.32921814]\n",
      "[ 0.32546042]\n",
      "[ 0.32183897]\n",
      "[ 0.31834665]\n",
      "[ 0.31497677]\n",
      "[ 0.31172307]\n",
      "[ 0.30857964]\n",
      "[ 0.30554095]\n",
      "[ 0.30260178]\n",
      "[ 0.29975725]\n",
      "[ 0.29700273]\n",
      "[ 0.29433389]\n",
      "[ 0.29174664]\n",
      "[ 0.28923712]\n",
      "[ 0.28680169]\n",
      "[ 0.28443692]\n",
      "[ 0.28213957]\n",
      "[ 0.27990657]\n",
      "[ 0.27773505]\n",
      "[ 0.27562225]\n",
      "[ 0.27356561]\n",
      "[ 0.27156266]\n",
      "[ 0.26961109]\n",
      "[ 0.26770872]\n",
      "[ 0.26585345]\n",
      "[ 0.26404332]\n",
      "[ 0.26227646]\n",
      "[ 0.2605511]\n",
      "[ 0.25886556]\n",
      "[ 0.25721824]\n",
      "[ 0.25560762]\n",
      "[ 0.25403226]\n",
      "[ 0.2524908]\n",
      "[ 0.25098192]\n",
      "[ 0.2495044]\n",
      "[ 0.24805705]\n"
     ]
    }
   ],
   "source": [
    "activate()"
   ]
  },
  {
   "cell_type": "code",
   "execution_count": null,
   "metadata": {
    "collapsed": true
   },
   "outputs": [],
   "source": []
  }
 ],
 "metadata": {
  "kernelspec": {
   "display_name": "Python 2",
   "language": "python",
   "name": "python2"
  },
  "language_info": {
   "codemirror_mode": {
    "name": "ipython",
    "version": 2
   },
   "file_extension": ".py",
   "mimetype": "text/x-python",
   "name": "python",
   "nbconvert_exporter": "python",
   "pygments_lexer": "ipython2",
   "version": "2.7.12"
  }
 },
 "nbformat": 4,
 "nbformat_minor": 0
}
