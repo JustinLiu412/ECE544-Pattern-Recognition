{
 "cells": [
  {
   "cell_type": "code",
   "execution_count": 144,
   "metadata": {
    "collapsed": true
   },
   "outputs": [],
   "source": [
    "import tensorflow as tf\n",
    "import numpy as np\n",
    "import random\n",
    "\n",
    "%matplotlib inline\n",
    "import warnings\n",
    "warnings.filterwarnings(\"ignore\")\n",
    "# Only need '%matplotlib inline' when running in ipython notebook.\n",
    "import matplotlib.pyplot as plt"
   ]
  },
  {
   "cell_type": "code",
   "execution_count": 145,
   "metadata": {
    "collapsed": true
   },
   "outputs": [],
   "source": [
    "def get_data(set_type):\n",
    "    \"\"\"Get data from files and storage them in a array. Return the data_set and label_set.\n",
    "    \n",
    "    set_type    the type of data set you want to build, including train dataset, dev dataset \n",
    "                and eval dataset\n",
    "    \"\"\"\n",
    "    \n",
    "    data_path = {'train': 'train/lab/hw1train_labels.txt', 'dev': 'dev/lab/hw1dev_labels.txt', \\\n",
    "                 'eval': 'eval/lab/hw1eval_labels.txt'} \n",
    "\n",
    "    label_array = np.loadtxt(data_path[set_type], dtype='string')\n",
    "\n",
    "    #creat empty arrays to insert label and data\n",
    "    label_set = np.zeros([len(label_array), 2])\n",
    "    data_set = np.zeros([len(label_array), 16])\n",
    "\n",
    "    #the first column of the label file is the label,\n",
    "    #the second column is the corresbonding data file nam\n",
    "    for i in range(len(label_set)): \n",
    "        \n",
    "        #build the label set\n",
    "        if int(label_array[i][0]) == 0:\n",
    "            label_set[i][0] = 1 #insert label into label_set\n",
    "        else:\n",
    "            label_set[i][1] = 1\n",
    "            \n",
    "        #build the data set\n",
    "        with open(label_array[i][1]) as data_file:\n",
    "            data = data_file.readlines()[0].split() #find the data accoding to label\n",
    "        for j in range(len(data)):\n",
    "            data_set[i][j] = data[j] #insert data into the dataset\n",
    "            \n",
    "    data_set, label_set = nan_check(data_set, label_set) #delete the rows containing 'nan'\n",
    "    \n",
    "    return data_set, label_set #return the data set and label set\n"
   ]
  },
  {
   "cell_type": "code",
   "execution_count": 146,
   "metadata": {
    "collapsed": true
   },
   "outputs": [],
   "source": [
    "def nan_check(data, label):\n",
    "    \"\"\"Find out the rows in datasets and delete these rows\n",
    "    \n",
    "    \"\"\"\n",
    "    \n",
    "    nan_rows = np.array(0); #define an array containg the no. of rows having 'nan'\n",
    "    \n",
    "    #collect all the numbers of 'nan'-data rows\n",
    "    for i in range(len(data)):\n",
    "        for j in range(16):\n",
    "            if str(data[i][j]) == 'nan':\n",
    "                nan_rows = np.append(nan_rows, i)\n",
    "    nan_rows = np.delete(nan_rows, 0) #delete the first element of nan_rows which was made to fit the append()\n",
    "    \n",
    "    return np.delete(data, nan_rows, 0), np.delete(label, nan_rows, 0) #output the dataset whose 'nan'-data rows have been deleted\n"
   ]
  },
  {
   "cell_type": "code",
   "execution_count": 147,
   "metadata": {
    "collapsed": true
   },
   "outputs": [],
   "source": [
    "def shuffle(data_set, label_set):\n",
    "    \"\"\"Randomly shuffle the data and label\n",
    "    \n",
    "    data_set    the data samples\n",
    "    \n",
    "    label_set   the lables\n",
    "    \"\"\"\n",
    "    \n",
    "    shuffled_data = np.zeros((data_set.shape))\n",
    "    shuffled_label = np.zeros((label_set.shape))\n",
    "    idx = np.array(xrange(len(label_set)))\n",
    "    random.shuffle(idx)\n",
    "    i = 0\n",
    "    for j in idx:\n",
    "        shuffled_data[i] = data_set[int(j)]\n",
    "        shuffled_label[i] = label_set[int(j)]\n",
    "        i += 1\n",
    "    return shuffled_data, shuffled_label"
   ]
  },
  {
   "cell_type": "code",
   "execution_count": 158,
   "metadata": {
    "collapsed": false
   },
   "outputs": [
    {
     "name": "stdout",
     "output_type": "stream",
     "text": [
      "(8774, 16) (8774, 2)\n"
     ]
    }
   ],
   "source": [
    "train_data, train_label = get_data('train')\n",
    "train_data, train_label = shuffle(train_data, train_label)\n",
    "print train_data.shape, train_label.shape\n"
   ]
  },
  {
   "cell_type": "code",
   "execution_count": 161,
   "metadata": {
    "collapsed": false
   },
   "outputs": [
    {
     "name": "stdout",
     "output_type": "stream",
     "text": [
      "Loss at step 0: 0.604748\n",
      "Loss at step 20: 0.568247\n",
      "Loss at step 40: 0.539844\n",
      "Loss at step 60: 0.517532\n",
      "Loss at step 80: 0.499523\n",
      "Loss at step 100: 0.484421\n",
      "Loss at step 120: 0.471251\n",
      "Loss at step 140: 0.459400\n",
      "Loss at step 160: 0.448505\n",
      "Loss at step 180: 0.438349\n",
      "Loss at step 200: 0.428799\n",
      "Loss at step 220: 0.419767\n",
      "Loss at step 240: 0.411188\n",
      "Loss at step 260: 0.403012\n",
      "Loss at step 280: 0.395200\n",
      "Loss at step 300: 0.387720\n",
      "Loss at step 320: 0.380548\n",
      "Loss at step 340: 0.373663\n",
      "Loss at step 360: 0.367046\n",
      "Loss at step 380: 0.360684\n",
      "Loss at step 400: 0.354562\n",
      "Loss at step 420: 0.348667\n",
      "Loss at step 440: 0.342989\n",
      "Loss at step 460: 0.337514\n",
      "Loss at step 480: 0.332235\n",
      "Loss at step 500: 0.327142\n",
      "Loss at step 520: 0.322230\n",
      "Loss at step 540: 0.317491\n",
      "Loss at step 560: 0.312920\n",
      "Loss at step 580: 0.308512\n",
      "Loss at step 600: 0.304261\n",
      "Loss at step 620: 0.300163\n",
      "Loss at step 640: 0.296212\n",
      "Loss at step 660: 0.292403\n",
      "Loss at step 680: 0.288729\n",
      "Loss at step 700: 0.285186\n",
      "Loss at step 720: 0.281767\n",
      "Loss at step 740: 0.278467\n",
      "Loss at step 760: 0.275279\n",
      "Loss at step 780: 0.272198\n",
      "Loss at step 800: 0.269220\n",
      "Loss at step 820: 0.266336\n",
      "Loss at step 840: 0.263544\n",
      "Loss at step 860: 0.260837\n",
      "Loss at step 880: 0.258212\n",
      "Loss at step 900: 0.255664\n",
      "Loss at step 920: 0.253188\n",
      "Loss at step 940: 0.250781\n",
      "Loss at step 960: 0.248440\n",
      "Loss at step 980: 0.246161\n",
      "Loss at step 1000: 0.243942\n",
      "Loss at step 1020: 0.241778\n",
      "Loss at step 1040: 0.239669\n",
      "Loss at step 1060: 0.237612\n",
      "Loss at step 1080: 0.235605\n",
      "Loss at step 1100: 0.233645\n",
      "Loss at step 1120: 0.231732\n",
      "Loss at step 1140: 0.229863\n",
      "Loss at step 1160: 0.228037\n",
      "Loss at step 1180: 0.226253\n",
      "Loss at step 1200: 0.224510\n",
      "Loss at step 1220: 0.222806\n",
      "Loss at step 1240: 0.221140\n",
      "Loss at step 1260: 0.219511\n",
      "Loss at step 1280: 0.217918\n",
      "Loss at step 1300: 0.216362\n",
      "Loss at step 1320: 0.214839\n",
      "Loss at step 1340: 0.213349\n",
      "Loss at step 1360: 0.211893\n",
      "Loss at step 1380: 0.210468\n",
      "Loss at step 1400: 0.209074\n",
      "Loss at step 1420: 0.207710\n",
      "Loss at step 1440: 0.206375\n",
      "Loss at step 1460: 0.205070\n",
      "Loss at step 1480: 0.203792\n",
      "Loss at step 1500: 0.202542\n",
      "Loss at step 1520: 0.201318\n",
      "Loss at step 1540: 0.200120\n",
      "Loss at step 1560: 0.198947\n",
      "Loss at step 1580: 0.197799\n",
      "Loss at step 1600: 0.196675\n",
      "Loss at step 1620: 0.195575\n",
      "Loss at step 1640: 0.194497\n",
      "Loss at step 1660: 0.193441\n",
      "Loss at step 1680: 0.192407\n",
      "Loss at step 1700: 0.191394\n",
      "Loss at step 1720: 0.190402\n",
      "Loss at step 1740: 0.189430\n",
      "Loss at step 1760: 0.188478\n",
      "Loss at step 1780: 0.187544\n",
      "Loss at step 1800: 0.186629\n",
      "Loss at step 1820: 0.185733\n",
      "Loss at step 1840: 0.184854\n",
      "Loss at step 1860: 0.183992\n",
      "Loss at step 1880: 0.183147\n",
      "Loss at step 1900: 0.182319\n",
      "Loss at step 1920: 0.181506\n",
      "Loss at step 1940: 0.180709\n",
      "Loss at step 1960: 0.179928\n",
      "Loss at step 1980: 0.179161\n",
      "[[ 0.7798447   0.90682095]\n",
      " [ 0.09502781 -0.11867212]\n",
      " [ 1.48037529 -1.89145017]\n",
      " [-0.59940928  0.88453853]\n",
      " [-1.62116373  0.61867577]\n",
      " [ 1.10302293  1.66021883]\n",
      " [-0.88480401  0.11382718]\n",
      " [-0.96921813  1.47953212]\n",
      " [-0.53250557  0.73162872]\n",
      " [ 0.08707391 -1.26757014]\n",
      " [-0.43316394 -0.58046705]\n",
      " [ 0.10472714 -0.60401243]\n",
      " [ 0.85221189  0.63280702]\n",
      " [ 0.91810143  0.82162541]\n",
      " [ 1.29165101 -1.09378278]\n",
      " [-0.38010177  1.77524412]]\n"
     ]
    }
   ],
   "source": [
    "x_placeholder = tf.placeholder(tf.float32, [None, 16])\n",
    "y_placeholder = tf.placeholder(tf.float32, [None, 2])\n",
    "w = tf.Variable(tf.random_normal([16, 2]))\n",
    "b = tf.Variable(tf.zeros([2]))\n",
    "y_hat = tf.nn.softmax(tf.matmul(x_placeholder, w) + b)\n",
    "\n",
    "loss = tf.reduce_sum(tf.square(y_placeholder-y_hat)) / train_data.shape[0]\n",
    "\n",
    "train_step = tf.train.GradientDescentOptimizer(0.01).minimize(loss)\n",
    "\n",
    "init = tf.initialize_all_variables()\n",
    "sess = tf.Session()\n",
    "sess.run(init)\n",
    "\n",
    "y_error = []\n",
    "\n",
    "for step in range(2000):\n",
    "    feed_dict = {x_placeholder: train_data, y_placeholder: train_label}\n",
    "    sess.run(train_step, feed_dict=feed_dict)\n",
    "    loss_np = sess.run(loss, feed_dict=feed_dict)\n",
    "    \n",
    "    if step % 20 == 0:\n",
    "        print(\"Loss at step %d: %f\" % (step, loss_np))\n",
    "        y_error.append(loss_np)\n",
    "print sess.run(w)\n"
   ]
  },
  {
   "cell_type": "code",
   "execution_count": 162,
   "metadata": {
    "collapsed": false
   },
   "outputs": [
    {
     "data": {
      "text/plain": [
       "[<matplotlib.lines.Line2D at 0x126c5b310>]"
      ]
     },
     "execution_count": 162,
     "metadata": {},
     "output_type": "execute_result"
    },
    {
     "data": {
      "image/png": "[encoded data removed]",
      "text/plain": [
       "<matplotlib.figure.Figure at 0x1261a2250>"
      ]
     },
     "metadata": {},
     "output_type": "display_data"
    }
   ],
   "source": [
    "\n",
    "x_axis = np.arange(0, 2000, 20)\n",
    "\n",
    "plt.plot(x_axis, y_error,'r', linewidth=3)"
   ]
  },
  {
   "cell_type": "code",
   "execution_count": null,
   "metadata": {
    "collapsed": true
   },
   "outputs": [],
   "source": []
  }
 ],
 "metadata": {
  "anaconda-cloud": {},
  "kernelspec": {
   "display_name": "Python 2",
   "language": "python",
   "name": "python2"
  },
  "language_info": {
   "codemirror_mode": {
    "name": "ipython",
    "version": 2
   },
   "file_extension": ".py",
   "mimetype": "text/x-python",
   "name": "python",
   "nbconvert_exporter": "python",
   "pygments_lexer": "ipython2",
   "version": "2.7.12"
  }
 },
 "nbformat": 4,
 "nbformat_minor": 0
}
